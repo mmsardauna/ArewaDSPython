{
 "cells": [
  {
   "cell_type": "code",
   "execution_count": null,
   "id": "2440f3fe",
   "metadata": {},
   "outputs": [],
   "source": [
    "\n",
    "Question 4\n",
    "print(type(10))\n",
    "print(type(9.8))\n",
    "print(type(3.14))\n",
    "print(type(4-4j))\n",
    "print(type['Asabeneh', 'python', 'Finland'])\n",
    "print(type('Musa'))\n",
    "print(type('Sardauna'))\n",
    "print(type('Nigeria'))\n",
    "EXERCISE LEVEL 3\n",
    "# 10 \n",
    "# 10.12\n",
    "# 3-4J\n",
    "# 'Musa'\n",
    "# True\n",
    "# [1, 2, 3, 4]\n",
    "# ('goat','sheep','cow','camel')\n",
    "# {1,3,5,7,9,11}\n",
    "# {'first_name':'Musa','last_name':'Mohammed','country':'Nigeria','age':30}\n",
    "10\n",
    "Question 2\n",
    "import math\n",
    "math.sqrt(((2-10)**2)+((3-8)**2))\n",
    "9.433981132056603\n",
    "​"
   ]
  },
  {
   "cell_type": "markdown",
   "id": "175b54c4",
   "metadata": {},
   "source": [
    "# DAY \n",
    "\n",
    "# EX LEVELl1\n",
    "\n",
    "# question 1\n"
   ]
  },
  {
   "cell_type": "code",
   "execution_count": 3,
   "id": "cfad4b50",
   "metadata": {},
   "outputs": [
    {
     "data": {
      "text/plain": [
       "'python --version'"
      ]
     },
     "execution_count": 3,
     "metadata": {},
     "output_type": "execute_result"
    }
   ],
   "source": [
    "# check python version\n",
    "\"python --version\""
   ]
  },
  {
   "cell_type": "markdown",
   "id": "2a331fa1",
   "metadata": {},
   "source": [
    "# Question 2\n"
   ]
  },
  {
   "cell_type": "code",
   "execution_count": 10,
   "id": "30d03159",
   "metadata": {},
   "outputs": [
    {
     "data": {
      "text/plain": [
       "7"
      ]
     },
     "execution_count": 10,
     "metadata": {},
     "output_type": "execute_result"
    }
   ],
   "source": [
    "(3+4)"
   ]
  },
  {
   "cell_type": "code",
   "execution_count": 11,
   "id": "038928b1",
   "metadata": {},
   "outputs": [
    {
     "data": {
      "text/plain": [
       "-1"
      ]
     },
     "execution_count": 11,
     "metadata": {},
     "output_type": "execute_result"
    }
   ],
   "source": [
    "(3-4)"
   ]
  },
  {
   "cell_type": "code",
   "execution_count": 12,
   "id": "47beb206",
   "metadata": {},
   "outputs": [
    {
     "data": {
      "text/plain": [
       "12"
      ]
     },
     "execution_count": 12,
     "metadata": {},
     "output_type": "execute_result"
    }
   ],
   "source": [
    "(3*4)"
   ]
  },
  {
   "cell_type": "code",
   "execution_count": 13,
   "id": "2155602d",
   "metadata": {},
   "outputs": [
    {
     "data": {
      "text/plain": [
       "3"
      ]
     },
     "execution_count": 13,
     "metadata": {},
     "output_type": "execute_result"
    }
   ],
   "source": [
    "(3%4)"
   ]
  },
  {
   "cell_type": "code",
   "execution_count": 14,
   "id": "364d5f7a",
   "metadata": {},
   "outputs": [
    {
     "data": {
      "text/plain": [
       "0.75"
      ]
     },
     "execution_count": 14,
     "metadata": {},
     "output_type": "execute_result"
    }
   ],
   "source": [
    "(3/4)"
   ]
  },
  {
   "cell_type": "code",
   "execution_count": 15,
   "id": "2f234eca",
   "metadata": {},
   "outputs": [
    {
     "data": {
      "text/plain": [
       "81"
      ]
     },
     "execution_count": 15,
     "metadata": {},
     "output_type": "execute_result"
    }
   ],
   "source": [
    "(3**4)"
   ]
  },
  {
   "cell_type": "code",
   "execution_count": 16,
   "id": "7651c7f1",
   "metadata": {},
   "outputs": [
    {
     "data": {
      "text/plain": [
       "0"
      ]
     },
     "execution_count": 16,
     "metadata": {},
     "output_type": "execute_result"
    }
   ],
   "source": [
    "(3//4)"
   ]
  },
  {
   "cell_type": "markdown",
   "id": "b1f4279b",
   "metadata": {},
   "source": [
    "# Question 3\n"
   ]
  },
  {
   "cell_type": "code",
   "execution_count": 5,
   "id": "b2a038f3",
   "metadata": {},
   "outputs": [
    {
     "name": "stdout",
     "output_type": "stream",
     "text": [
      "Musa\n",
      "Sardauna\n",
      "Nigeria\n",
      "I am enjoying 30 days of python\n"
     ]
    }
   ],
   "source": [
    "print('Musa')\n",
    "print('Sardauna')\n",
    "print('Nigeria')\n",
    "print('I am enjoying 30 days of python')"
   ]
  },
  {
   "cell_type": "markdown",
   "id": "19a9b7f9",
   "metadata": {},
   "source": [
    "# Question 4\n"
   ]
  },
  {
   "cell_type": "code",
   "execution_count": 17,
   "id": "36e766ba",
   "metadata": {
    "scrolled": true
   },
   "outputs": [
    {
     "name": "stdout",
     "output_type": "stream",
     "text": [
      "<class 'int'>\n",
      "<class 'float'>\n",
      "<class 'float'>\n",
      "<class 'complex'>\n",
      "<class 'list'>\n",
      "<class 'str'>\n",
      "<class 'str'>\n",
      "<class 'str'>\n"
     ]
    }
   ],
   "source": [
    "print(type(10))\n",
    "print(type(9.8))\n",
    "print(type(3.14))\n",
    "print(type(4-4j))\n",
    "print(type(['Asabeneh', 'python', 'Finland']))\n",
    "print(type('Musa'))\n",
    "print(type(\"Sardauna\"))\n",
    "print(type('Nigeria'))"
   ]
  },
  {
   "cell_type": "markdown",
   "id": "003f3a55",
   "metadata": {},
   "source": [
    "# EXERCISE LEVEL2"
   ]
  },
  {
   "cell_type": "code",
   "execution_count": 18,
   "id": "09ebba45",
   "metadata": {},
   "outputs": [
    {
     "name": "stdout",
     "output_type": "stream",
     "text": [
      "7\n",
      "-1\n",
      "12\n",
      "3\n",
      "0.75\n",
      "81\n",
      "0\n"
     ]
    }
   ],
   "source": [
    "print(3+4)\n",
    "print(3-4)\n",
    "print(3*4)\n",
    "print(3%4)\n",
    "print(3/4)\n",
    "print(3**4)\n",
    "print(3//4)"
   ]
  },
  {
   "cell_type": "code",
   "execution_count": 19,
   "id": "fc4c47ec",
   "metadata": {},
   "outputs": [
    {
     "name": "stdout",
     "output_type": "stream",
     "text": [
      "Musa\n",
      "Sardauna\n",
      "Nigeria\n",
      "I am enjoying 30 days of python\n"
     ]
    }
   ],
   "source": [
    "print('Musa')\n",
    "print('Sardauna')\n",
    "print('Nigeria')\n",
    "print('I am enjoying 30 days of python')"
   ]
  },
  {
   "cell_type": "code",
   "execution_count": 20,
   "id": "0e6882c6",
   "metadata": {},
   "outputs": [
    {
     "name": "stdout",
     "output_type": "stream",
     "text": [
      "<class 'int'>\n",
      "<class 'float'>\n",
      "<class 'float'>\n",
      "<class 'complex'>\n",
      "<class 'list'>\n",
      "<class 'str'>\n",
      "<class 'str'>\n",
      "<class 'str'>\n"
     ]
    }
   ],
   "source": [
    "print(type(10))\n",
    "print(type(9.8))\n",
    "print(type(3.14))\n",
    "print(type(4-4j))\n",
    "print(type(['Asabeneh', 'python', 'Finland']))\n",
    "print(type('Musa'))\n",
    "print(type(\"Sardauna\"))\n",
    "print(type('Nigeria'))"
   ]
  },
  {
   "cell_type": "markdown",
   "id": "78942a56",
   "metadata": {},
   "source": [
    "# EX LEVEL 3"
   ]
  },
  {
   "cell_type": "markdown",
   "id": "caf8864a",
   "metadata": {},
   "source": [
    "## QUESTION 1"
   ]
  },
  {
   "cell_type": "code",
   "execution_count": 21,
   "id": "efbfe794",
   "metadata": {},
   "outputs": [],
   "source": [
    "# 10 \n",
    "# 10.12\n",
    "# 3-4J\n",
    "# 'Musa'\n",
    "# True\n",
    "# [1, 2, 3, 4]\n",
    "# ('goat','sheep','cow','camel')\n",
    "# {1,3,5,7,9,11}\n",
    "# {'first_name':'Musa','last_name':'Mohammed','country':'Nigeria','age':30}"
   ]
  },
  {
   "cell_type": "code",
   "execution_count": null,
   "id": "d72b6e89",
   "metadata": {},
   "outputs": [],
   "source": [
    "# QUESTION 2"
   ]
  },
  {
   "cell_type": "code",
   "execution_count": 22,
   "id": "2ddd12f6",
   "metadata": {},
   "outputs": [
    {
     "data": {
      "text/plain": [
       "9.433981132056603"
      ]
     },
     "execution_count": 22,
     "metadata": {},
     "output_type": "execute_result"
    }
   ],
   "source": [
    "import math\n",
    "distance = math.sqrt(((2-10)**2)+((3-8)**2))\n",
    "distance"
   ]
  },
  {
   "cell_type": "code",
   "execution_count": null,
   "id": "b0a0426c",
   "metadata": {},
   "outputs": [],
   "source": []
  }
 ],
 "metadata": {
  "kernelspec": {
   "display_name": "Python 3 (ipykernel)",
   "language": "python",
   "name": "python3"
  },
  "language_info": {
   "codemirror_mode": {
    "name": "ipython",
    "version": 3
   },
   "file_extension": ".py",
   "mimetype": "text/x-python",
   "name": "python",
   "nbconvert_exporter": "python",
   "pygments_lexer": "ipython3",
   "version": "3.11.1"
  }
 },
 "nbformat": 4,
 "nbformat_minor": 5
}
