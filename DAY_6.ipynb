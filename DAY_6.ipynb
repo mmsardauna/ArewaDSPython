{
 "cells": [
  {
   "cell_type": "markdown",
   "id": "12ceb605",
   "metadata": {},
   "source": [
    "# DAY 6"
   ]
  },
  {
   "cell_type": "markdown",
   "id": "584046ca",
   "metadata": {},
   "source": [
    "## Ex level1"
   ]
  },
  {
   "cell_type": "markdown",
   "id": "d5245bd9",
   "metadata": {},
   "source": [
    "# Q1"
   ]
  },
  {
   "cell_type": "code",
   "execution_count": 1,
   "id": "c1cc25c3",
   "metadata": {},
   "outputs": [],
   "source": [
    "empty_tupple=()"
   ]
  },
  {
   "cell_type": "markdown",
   "id": "f7781f27",
   "metadata": {},
   "source": [
    "# Q2"
   ]
  },
  {
   "cell_type": "code",
   "execution_count": 2,
   "id": "54d3139c",
   "metadata": {},
   "outputs": [],
   "source": [
    "brothers=('Ahmad','Ali','Umar')\n",
    "sisters=('Aisha','Fatima','Maryam')"
   ]
  },
  {
   "cell_type": "markdown",
   "id": "621ec75d",
   "metadata": {},
   "source": [
    "# Q3"
   ]
  },
  {
   "cell_type": "code",
   "execution_count": 3,
   "id": "7e871961",
   "metadata": {},
   "outputs": [
    {
     "name": "stdout",
     "output_type": "stream",
     "text": [
      "('Ahmad', 'Ali', 'Umar', 'Aisha', 'Fatima', 'Maryam')\n"
     ]
    }
   ],
   "source": [
    "siblings=brothers+sisters\n",
    "print(siblings)"
   ]
  },
  {
   "cell_type": "markdown",
   "id": "9fe734fc",
   "metadata": {},
   "source": [
    "# Q4"
   ]
  },
  {
   "cell_type": "code",
   "execution_count": 4,
   "id": "e3609162",
   "metadata": {},
   "outputs": [
    {
     "name": "stdout",
     "output_type": "stream",
     "text": [
      "6\n"
     ]
    }
   ],
   "source": [
    "print(len(siblings))"
   ]
  },
  {
   "cell_type": "markdown",
   "id": "850b0f03",
   "metadata": {},
   "source": [
    "# Q5"
   ]
  },
  {
   "cell_type": "code",
   "execution_count": 5,
   "id": "53ee3b65",
   "metadata": {},
   "outputs": [
    {
     "name": "stdout",
     "output_type": "stream",
     "text": [
      "('Ahmad', 'Ali', 'Umar', 'Aisha', 'Fatima', 'Maryam', 'Muhammad', 'Amina')\n"
     ]
    }
   ],
   "source": [
    "parents=('Muhammad','Amina')\n",
    "family_members=siblings+parents\n",
    "print(family_members)"
   ]
  },
  {
   "cell_type": "markdown",
   "id": "430acae4",
   "metadata": {},
   "source": [
    "# EX LEVEL2"
   ]
  },
  {
   "cell_type": "markdown",
   "id": "bd0de8f3",
   "metadata": {},
   "source": [
    "# Q1"
   ]
  },
  {
   "cell_type": "code",
   "execution_count": 8,
   "id": "33bc61bc",
   "metadata": {},
   "outputs": [
    {
     "name": "stdout",
     "output_type": "stream",
     "text": [
      "['Muhammad', 'Amina']\n"
     ]
    }
   ],
   "source": [
    "first_family_member,second__family_member,third_family_member,fourth_family_member,fifth_family_member,sixth_family_member,*rest=family_members\n",
    "print(rest)"
   ]
  },
  {
   "cell_type": "markdown",
   "id": "a5c3a8b7",
   "metadata": {},
   "source": [
    "# Q2"
   ]
  },
  {
   "cell_type": "code",
   "execution_count": 9,
   "id": "16d2e7c1",
   "metadata": {},
   "outputs": [
    {
     "name": "stdout",
     "output_type": "stream",
     "text": [
      "('mango', 'orange', 'apple', 'tomato', 'salad', 'cabage', 'meat', 'milk', 'fat')\n"
     ]
    }
   ],
   "source": [
    "fruits=('mango','orange','apple')\n",
    "vegetables=('tomato','salad','cabage')\n",
    "animal_products=('meat','milk','fat')\n",
    "food_stuff_tpl=fruits+vegetables+animal_products\n",
    "print(food_stuff_tpl)"
   ]
  },
  {
   "cell_type": "markdown",
   "id": "2e94ec6a",
   "metadata": {},
   "source": [
    "# Q3"
   ]
  },
  {
   "cell_type": "code",
   "execution_count": 10,
   "id": "e7600be6",
   "metadata": {},
   "outputs": [
    {
     "name": "stdout",
     "output_type": "stream",
     "text": [
      "['mango', 'orange', 'apple', 'tomato', 'salad', 'cabage', 'meat', 'milk', 'fat']\n"
     ]
    }
   ],
   "source": [
    "food_stuff_lst=list(food_stuff_tpl)\n",
    "print(food_stuff_lst)"
   ]
  },
  {
   "cell_type": "markdown",
   "id": "f529e77d",
   "metadata": {},
   "source": [
    "# Q4"
   ]
  },
  {
   "cell_type": "code",
   "execution_count": 11,
   "id": "63d40cff",
   "metadata": {},
   "outputs": [
    {
     "data": {
      "text/plain": [
       "('salad',)"
      ]
     },
     "execution_count": 11,
     "metadata": {},
     "output_type": "execute_result"
    }
   ],
   "source": [
    "food_stuff_tpl[4:5]"
   ]
  },
  {
   "cell_type": "markdown",
   "id": "36a138a8",
   "metadata": {},
   "source": [
    "# Q5"
   ]
  },
  {
   "cell_type": "code",
   "execution_count": 12,
   "id": "b2bb9e61",
   "metadata": {},
   "outputs": [
    {
     "data": {
      "text/plain": [
       "['mango', 'orange', 'apple']"
      ]
     },
     "execution_count": 12,
     "metadata": {},
     "output_type": "execute_result"
    }
   ],
   "source": [
    "food_stuff_lst[:3]"
   ]
  },
  {
   "cell_type": "code",
   "execution_count": 13,
   "id": "463ab6b5",
   "metadata": {},
   "outputs": [
    {
     "data": {
      "text/plain": [
       "['meat', 'milk', 'fat']"
      ]
     },
     "execution_count": 13,
     "metadata": {},
     "output_type": "execute_result"
    }
   ],
   "source": [
    "food_stuff_lst[6:]"
   ]
  },
  {
   "cell_type": "markdown",
   "id": "2417d89b",
   "metadata": {},
   "source": [
    "# Q6"
   ]
  },
  {
   "cell_type": "code",
   "execution_count": 14,
   "id": "e074cfe2",
   "metadata": {},
   "outputs": [],
   "source": [
    "del food_stuff_tpl"
   ]
  },
  {
   "cell_type": "markdown",
   "id": "392c5c49",
   "metadata": {},
   "source": [
    "# Q7"
   ]
  },
  {
   "cell_type": "code",
   "execution_count": 15,
   "id": "efd59aec",
   "metadata": {},
   "outputs": [],
   "source": [
    "nordic_countries=('Denmark','Finland','Iceland','Norway','Sweden')\n",
    "does_exist='Estonia in nordic_countries'"
   ]
  },
  {
   "cell_type": "code",
   "execution_count": 16,
   "id": "2397046b",
   "metadata": {},
   "outputs": [],
   "source": [
    "does_exist='Iceland in nordic_countries'"
   ]
  },
  {
   "cell_type": "code",
   "execution_count": null,
   "id": "0e0a4d0c",
   "metadata": {},
   "outputs": [],
   "source": []
  }
 ],
 "metadata": {
  "kernelspec": {
   "display_name": "Python 3 (ipykernel)",
   "language": "python",
   "name": "python3"
  },
  "language_info": {
   "codemirror_mode": {
    "name": "ipython",
    "version": 3
   },
   "file_extension": ".py",
   "mimetype": "text/x-python",
   "name": "python",
   "nbconvert_exporter": "python",
   "pygments_lexer": "ipython3",
   "version": "3.11.1"
  }
 },
 "nbformat": 4,
 "nbformat_minor": 5
}
