{
 "cells": [
  {
   "cell_type": "markdown",
   "id": "5800acbd",
   "metadata": {},
   "source": [
    "# DAY 4"
   ]
  },
  {
   "cell_type": "markdown",
   "id": "9be87f9a",
   "metadata": {},
   "source": [
    "# Q1"
   ]
  },
  {
   "cell_type": "code",
   "execution_count": 1,
   "id": "e20cc80d",
   "metadata": {},
   "outputs": [
    {
     "name": "stdout",
     "output_type": "stream",
     "text": [
      "ThirtyDaysOfPython\n"
     ]
    }
   ],
   "source": [
    "print('Thirty'+'Days'+'Of'+'Python')"
   ]
  },
  {
   "cell_type": "markdown",
   "id": "2e268505",
   "metadata": {},
   "source": [
    "# Q2"
   ]
  },
  {
   "cell_type": "code",
   "execution_count": null,
   "id": "ac256de5",
   "metadata": {},
   "outputs": [],
   "source": [
    "print('Coding'+'For'+'All')"
   ]
  },
  {
   "cell_type": "markdown",
   "id": "4e4b6f35",
   "metadata": {},
   "source": [
    "# Q3 to 7"
   ]
  },
  {
   "cell_type": "code",
   "execution_count": 10,
   "id": "4e4d0088",
   "metadata": {},
   "outputs": [
    {
     "name": "stdout",
     "output_type": "stream",
     "text": [
      "Coding For All\n",
      "7\n"
     ]
    },
    {
     "data": {
      "text/plain": [
       "'coding for all'"
      ]
     },
     "execution_count": 10,
     "metadata": {},
     "output_type": "execute_result"
    }
   ],
   "source": [
    "company=\"Coding For All\"\n",
    "print(company)\n",
    "print(len('company'))\n",
    "company.upper()\n",
    "company.lower()"
   ]
  },
  {
   "cell_type": "markdown",
   "id": "697fe168",
   "metadata": {},
   "source": [
    "# Q8"
   ]
  },
  {
   "cell_type": "code",
   "execution_count": 11,
   "id": "b4317b6c",
   "metadata": {},
   "outputs": [
    {
     "data": {
      "text/plain": [
       "'Coding for all'"
      ]
     },
     "execution_count": 11,
     "metadata": {},
     "output_type": "execute_result"
    }
   ],
   "source": [
    "company.capitalize()"
   ]
  },
  {
   "cell_type": "code",
   "execution_count": 12,
   "id": "db1d951d",
   "metadata": {},
   "outputs": [
    {
     "data": {
      "text/plain": [
       "'Coding For All'"
      ]
     },
     "execution_count": 12,
     "metadata": {},
     "output_type": "execute_result"
    }
   ],
   "source": [
    "company.title()"
   ]
  },
  {
   "cell_type": "code",
   "execution_count": 13,
   "id": "fc1e97c1",
   "metadata": {},
   "outputs": [
    {
     "data": {
      "text/plain": [
       "'cODING fOR aLL'"
      ]
     },
     "execution_count": 13,
     "metadata": {},
     "output_type": "execute_result"
    }
   ],
   "source": [
    "company.swapcase()"
   ]
  },
  {
   "cell_type": "markdown",
   "id": "732779ec",
   "metadata": {},
   "source": [
    "# Q9"
   ]
  },
  {
   "cell_type": "code",
   "execution_count": 14,
   "id": "53c15aff",
   "metadata": {},
   "outputs": [
    {
     "data": {
      "text/plain": [
       "'oding For All'"
      ]
     },
     "execution_count": 14,
     "metadata": {},
     "output_type": "execute_result"
    }
   ],
   "source": [
    "company[1:]"
   ]
  },
  {
   "cell_type": "markdown",
   "id": "2dc962e0",
   "metadata": {},
   "source": [
    "# Q10"
   ]
  },
  {
   "cell_type": "code",
   "execution_count": 15,
   "id": "b7121581",
   "metadata": {},
   "outputs": [
    {
     "data": {
      "text/plain": [
       "0"
      ]
     },
     "execution_count": 15,
     "metadata": {},
     "output_type": "execute_result"
    }
   ],
   "source": [
    "company.find('Coding')"
   ]
  },
  {
   "cell_type": "markdown",
   "id": "bc6e6878",
   "metadata": {},
   "source": [
    "# Q11"
   ]
  },
  {
   "cell_type": "code",
   "execution_count": 17,
   "id": "5a586c76",
   "metadata": {},
   "outputs": [
    {
     "name": "stdout",
     "output_type": "stream",
     "text": [
      "Python For All\n"
     ]
    }
   ],
   "source": [
    "print(company.replace('Coding','Python'))"
   ]
  },
  {
   "cell_type": "markdown",
   "id": "21cdebb7",
   "metadata": {},
   "source": [
    "# Q12"
   ]
  },
  {
   "cell_type": "code",
   "execution_count": 19,
   "id": "2a73882a",
   "metadata": {},
   "outputs": [
    {
     "name": "stdout",
     "output_type": "stream",
     "text": [
      "Python for All\n"
     ]
    }
   ],
   "source": [
    "code='Python for Everyone'\n",
    "print(code.replace('Everyone','All'))"
   ]
  },
  {
   "cell_type": "markdown",
   "id": "36a46116",
   "metadata": {},
   "source": [
    "# Q13"
   ]
  },
  {
   "cell_type": "code",
   "execution_count": 20,
   "id": "f9fac4d7",
   "metadata": {},
   "outputs": [
    {
     "name": "stdout",
     "output_type": "stream",
     "text": [
      "['Coding', 'For', 'All']\n"
     ]
    }
   ],
   "source": [
    "print(company.split())"
   ]
  },
  {
   "cell_type": "markdown",
   "id": "bf97d115",
   "metadata": {},
   "source": [
    "# Q14"
   ]
  },
  {
   "cell_type": "code",
   "execution_count": 21,
   "id": "6a6e872a",
   "metadata": {},
   "outputs": [
    {
     "name": "stdout",
     "output_type": "stream",
     "text": [
      "['Facebook,Google,Microsoft,Apple,IBM,Oracle,Amazon']\n"
     ]
    }
   ],
   "source": [
    "aps=(\"Facebook,Google,Microsoft,Apple,IBM,Oracle,Amazon\")\n",
    "print(aps.split())"
   ]
  },
  {
   "cell_type": "markdown",
   "id": "062a3b53",
   "metadata": {},
   "source": [
    "# Q15"
   ]
  },
  {
   "cell_type": "code",
   "execution_count": 22,
   "id": "a67e91b3",
   "metadata": {},
   "outputs": [
    {
     "name": "stdout",
     "output_type": "stream",
     "text": [
      "C\n"
     ]
    }
   ],
   "source": [
    "print(company[0])"
   ]
  },
  {
   "cell_type": "markdown",
   "id": "b173832e",
   "metadata": {},
   "source": [
    "# Q16"
   ]
  },
  {
   "cell_type": "code",
   "execution_count": 23,
   "id": "d3feab4c",
   "metadata": {},
   "outputs": [
    {
     "name": "stdout",
     "output_type": "stream",
     "text": [
      "13\n"
     ]
    }
   ],
   "source": [
    "last_index=len(company)-1\n",
    "print(last_index)"
   ]
  },
  {
   "cell_type": "markdown",
   "id": "f442c5cc",
   "metadata": {},
   "source": [
    "# Q17"
   ]
  },
  {
   "cell_type": "code",
   "execution_count": 25,
   "id": "ae4c2d11",
   "metadata": {},
   "outputs": [
    {
     "name": "stdout",
     "output_type": "stream",
     "text": [
      " \n"
     ]
    }
   ],
   "source": [
    "print(company[10])"
   ]
  },
  {
   "cell_type": "markdown",
   "id": "c720487a",
   "metadata": {},
   "source": [
    "# Q18"
   ]
  },
  {
   "cell_type": "code",
   "execution_count": 26,
   "id": "7939330d",
   "metadata": {},
   "outputs": [],
   "source": [
    "code_acronym='PFE'"
   ]
  },
  {
   "cell_type": "markdown",
   "id": "7ab97382",
   "metadata": {},
   "source": [
    "# Q19"
   ]
  },
  {
   "cell_type": "code",
   "execution_count": 27,
   "id": "c8a02fb8",
   "metadata": {},
   "outputs": [],
   "source": [
    "company_acronym='PFA'"
   ]
  },
  {
   "cell_type": "markdown",
   "id": "6ac25a1c",
   "metadata": {},
   "source": [
    "# Q20"
   ]
  },
  {
   "cell_type": "code",
   "execution_count": 28,
   "id": "7c8dc679",
   "metadata": {},
   "outputs": [
    {
     "name": "stdout",
     "output_type": "stream",
     "text": [
      "0\n"
     ]
    }
   ],
   "source": [
    "print(company.index('C'))"
   ]
  },
  {
   "cell_type": "markdown",
   "id": "c0727a20",
   "metadata": {},
   "source": [
    "# Q21"
   ]
  },
  {
   "cell_type": "code",
   "execution_count": 29,
   "id": "c15c3acd",
   "metadata": {},
   "outputs": [
    {
     "name": "stdout",
     "output_type": "stream",
     "text": [
      "7\n"
     ]
    }
   ],
   "source": [
    "print(company.index('F'))"
   ]
  },
  {
   "cell_type": "markdown",
   "id": "d7619de5",
   "metadata": {},
   "source": [
    "# Q22"
   ]
  },
  {
   "cell_type": "code",
   "execution_count": 30,
   "id": "8e2b6cb1",
   "metadata": {},
   "outputs": [
    {
     "name": "stdout",
     "output_type": "stream",
     "text": [
      "-1\n"
     ]
    }
   ],
   "source": [
    "print(company.rfind('I'))"
   ]
  },
  {
   "cell_type": "markdown",
   "id": "0c816cbb",
   "metadata": {},
   "source": [
    "# Q23"
   ]
  },
  {
   "cell_type": "code",
   "execution_count": 31,
   "id": "56c3a029",
   "metadata": {},
   "outputs": [
    {
     "name": "stdout",
     "output_type": "stream",
     "text": [
      "32\n"
     ]
    }
   ],
   "source": [
    "sentence_of_because='You can not end a sentence with because because because iss a conjunction'\n",
    "print(sentence_of_because.index('because'))"
   ]
  },
  {
   "cell_type": "markdown",
   "id": "369d5935",
   "metadata": {},
   "source": [
    "# Q24"
   ]
  },
  {
   "cell_type": "code",
   "execution_count": 32,
   "id": "59d97b0d",
   "metadata": {},
   "outputs": [
    {
     "name": "stdout",
     "output_type": "stream",
     "text": [
      "48\n"
     ]
    }
   ],
   "source": [
    "print(sentence_of_because.rindex('because'))"
   ]
  },
  {
   "cell_type": "markdown",
   "id": "839f45df",
   "metadata": {},
   "source": [
    "# Q25"
   ]
  },
  {
   "cell_type": "code",
   "execution_count": 33,
   "id": "a4cb9375",
   "metadata": {},
   "outputs": [
    {
     "name": "stdout",
     "output_type": "stream",
     "text": [
      " because because because\n"
     ]
    }
   ],
   "source": [
    "print(sentence_of_because[31:55])"
   ]
  },
  {
   "cell_type": "markdown",
   "id": "13cf1e65",
   "metadata": {},
   "source": [
    "# Q26"
   ]
  },
  {
   "cell_type": "code",
   "execution_count": 34,
   "id": "f0cbaa5d",
   "metadata": {},
   "outputs": [],
   "source": [
    "# same as Question 23"
   ]
  },
  {
   "cell_type": "markdown",
   "id": "4dc51a03",
   "metadata": {},
   "source": [
    "# Q27"
   ]
  },
  {
   "cell_type": "code",
   "execution_count": 35,
   "id": "ae8795cd",
   "metadata": {},
   "outputs": [],
   "source": [
    "# same as Question 25"
   ]
  },
  {
   "cell_type": "markdown",
   "id": "e4295bbf",
   "metadata": {},
   "source": [
    "# Q28"
   ]
  },
  {
   "cell_type": "code",
   "execution_count": 36,
   "id": "75be5c72",
   "metadata": {},
   "outputs": [
    {
     "name": "stdout",
     "output_type": "stream",
     "text": [
      "True\n"
     ]
    }
   ],
   "source": [
    "print(company.startswith('Coding'))"
   ]
  },
  {
   "cell_type": "markdown",
   "id": "a76290a2",
   "metadata": {},
   "source": [
    "# Q29"
   ]
  },
  {
   "cell_type": "code",
   "execution_count": 38,
   "id": "a5da4477",
   "metadata": {},
   "outputs": [
    {
     "name": "stdout",
     "output_type": "stream",
     "text": [
      "False\n"
     ]
    }
   ],
   "source": [
    "print(company.endswith('coding'))"
   ]
  },
  {
   "cell_type": "markdown",
   "id": "b74e65b8",
   "metadata": {},
   "source": [
    "# Q30"
   ]
  },
  {
   "cell_type": "code",
   "execution_count": null,
   "id": "74e2a30b",
   "metadata": {},
   "outputs": [],
   "source": []
  },
  {
   "cell_type": "markdown",
   "id": "b19c6e2d",
   "metadata": {},
   "source": [
    "# Q31"
   ]
  },
  {
   "cell_type": "code",
   "execution_count": 39,
   "id": "a54841ff",
   "metadata": {},
   "outputs": [],
   "source": [
    "# thirty_days_of_python"
   ]
  },
  {
   "cell_type": "markdown",
   "id": "3f76afd2",
   "metadata": {},
   "source": [
    "# Q32"
   ]
  },
  {
   "cell_type": "code",
   "execution_count": null,
   "id": "2f5e61f5",
   "metadata": {},
   "outputs": [],
   "source": []
  },
  {
   "cell_type": "markdown",
   "id": "c720cdf0",
   "metadata": {},
   "source": [
    "# Q33"
   ]
  },
  {
   "cell_type": "code",
   "execution_count": 40,
   "id": "8d37e22e",
   "metadata": {},
   "outputs": [
    {
     "name": "stdout",
     "output_type": "stream",
     "text": [
      "I am enjoying this challenge.\n",
      "I just wonderwhat is next\n"
     ]
    }
   ],
   "source": [
    "print('I am enjoying this challenge.\\nI just wonderwhat is next')"
   ]
  },
  {
   "cell_type": "markdown",
   "id": "334e175d",
   "metadata": {},
   "source": [
    "# Q34"
   ]
  },
  {
   "cell_type": "code",
   "execution_count": 41,
   "id": "cf760849",
   "metadata": {},
   "outputs": [
    {
     "ename": "SyntaxError",
     "evalue": "unexpected character after line continuation character (4161077463.py, line 1)",
     "output_type": "error",
     "traceback": [
      "\u001b[1;36m  Cell \u001b[1;32mIn[41], line 1\u001b[1;36m\u001b[0m\n\u001b[1;33m    print('Name'\\t'Age'\\t'Country'\\t'City'\\t'Asabeneh'\\t250\\t'Finland'\\t'Helsinki')\u001b[0m\n\u001b[1;37m                 ^\u001b[0m\n\u001b[1;31mSyntaxError\u001b[0m\u001b[1;31m:\u001b[0m unexpected character after line continuation character\n"
     ]
    }
   ],
   "source": [
    "print('Name'\\t'Age'\\t'Country'\\t'City'\\t'Asabeneh'\\t250\\t'Finland'\\t'Helsinki')"
   ]
  },
  {
   "cell_type": "markdown",
   "id": "ffe99aba",
   "metadata": {},
   "source": [
    "# Q35"
   ]
  },
  {
   "cell_type": "code",
   "execution_count": null,
   "id": "688f6a9d",
   "metadata": {},
   "outputs": [],
   "source": []
  }
 ],
 "metadata": {
  "kernelspec": {
   "display_name": "Python 3 (ipykernel)",
   "language": "python",
   "name": "python3"
  },
  "language_info": {
   "codemirror_mode": {
    "name": "ipython",
    "version": 3
   },
   "file_extension": ".py",
   "mimetype": "text/x-python",
   "name": "python",
   "nbconvert_exporter": "python",
   "pygments_lexer": "ipython3",
   "version": "3.11.1"
  }
 },
 "nbformat": 4,
 "nbformat_minor": 5
}
