{
 "cells": [
  {
   "cell_type": "markdown",
   "id": "3b1113b4",
   "metadata": {},
   "source": [
    "# DAY 2 "
   ]
  },
  {
   "cell_type": "markdown",
   "id": "a9f7f007",
   "metadata": {},
   "source": [
    "## Exercise Leve1"
   ]
  },
  {
   "cell_type": "markdown",
   "id": "437e5ce8",
   "metadata": {},
   "source": [
    "# Question 1"
   ]
  },
  {
   "cell_type": "code",
   "execution_count": null,
   "id": "26cd9f9d",
   "metadata": {},
   "outputs": [],
   "source": [
    "# Create a folder called day_2 and file named variables.py"
   ]
  },
  {
   "cell_type": "markdown",
   "id": "631139bf",
   "metadata": {},
   "source": [
    "# Question 2"
   ]
  },
  {
   "cell_type": "code",
   "execution_count": 3,
   "id": "0e791bf1",
   "metadata": {},
   "outputs": [],
   "source": [
    "# Day 2:30 Days of Python Programming"
   ]
  },
  {
   "cell_type": "markdown",
   "id": "f40909e0",
   "metadata": {},
   "source": [
    "# QUESTION 3 TO 13"
   ]
  },
  {
   "cell_type": "code",
   "execution_count": 4,
   "id": "aae62795",
   "metadata": {},
   "outputs": [
    {
     "name": "stdout",
     "output_type": "stream",
     "text": [
      "Musa Mohammed\n"
     ]
    },
    {
     "data": {
      "text/plain": [
       "('musa', 'mohammed', 32)"
      ]
     },
     "execution_count": 4,
     "metadata": {},
     "output_type": "execute_result"
    }
   ],
   "source": [
    "first_name='Musa'\n",
    "\n",
    "last_name='Mohammed'\n",
    "\n",
    "full_name=('Musa Mohammed')\n",
    "\n",
    "country='Nigeria'\n",
    "\n",
    "city='Bauchi'\n",
    "\n",
    "age=32\n",
    "\n",
    "year=2023\n",
    "\n",
    "is_married=True\n",
    "\n",
    "is_true='True'\n",
    "\n",
    "is_light_on='True'\n",
    "\n",
    "first_name,last_name,age='musa','mohammed',32\n",
    "first_name,last_name,age"
   ]
  },
  {
   "cell_type": "markdown",
   "id": "94955ad8",
   "metadata": {},
   "source": [
    "# EX LEVEL 2"
   ]
  },
  {
   "cell_type": "markdown",
   "id": "7ab5477e",
   "metadata": {},
   "source": [
    "# QUESTION 1"
   ]
  },
  {
   "cell_type": "code",
   "execution_count": 8,
   "id": "a0b542a0",
   "metadata": {},
   "outputs": [
    {
     "name": "stdout",
     "output_type": "stream",
     "text": [
      "<class 'str'>\n"
     ]
    }
   ],
   "source": [
    "print(type('musa'))"
   ]
  },
  {
   "cell_type": "code",
   "execution_count": 9,
   "id": "2f749863",
   "metadata": {},
   "outputs": [
    {
     "name": "stdout",
     "output_type": "stream",
     "text": [
      "<class 'str'>\n"
     ]
    }
   ],
   "source": [
    "print(type('mohammed'))"
   ]
  },
  {
   "cell_type": "code",
   "execution_count": 10,
   "id": "de8b7f94",
   "metadata": {},
   "outputs": [
    {
     "name": "stdout",
     "output_type": "stream",
     "text": [
      "<class 'str'>\n"
     ]
    }
   ],
   "source": [
    "print(type('musa mohammed'))"
   ]
  },
  {
   "cell_type": "code",
   "execution_count": 11,
   "id": "71bd13a6",
   "metadata": {},
   "outputs": [
    {
     "name": "stdout",
     "output_type": "stream",
     "text": [
      "<class 'str'>\n"
     ]
    }
   ],
   "source": [
    "print(type('Nigeria'))"
   ]
  },
  {
   "cell_type": "code",
   "execution_count": 12,
   "id": "ced67422",
   "metadata": {},
   "outputs": [
    {
     "name": "stdout",
     "output_type": "stream",
     "text": [
      "<class 'str'>\n"
     ]
    }
   ],
   "source": [
    "print(type('Bauchi'))"
   ]
  },
  {
   "cell_type": "code",
   "execution_count": 13,
   "id": "bf651599",
   "metadata": {},
   "outputs": [
    {
     "name": "stdout",
     "output_type": "stream",
     "text": [
      "<class 'int'>\n"
     ]
    }
   ],
   "source": [
    "print(type(32))"
   ]
  },
  {
   "cell_type": "code",
   "execution_count": 14,
   "id": "2ca54fa5",
   "metadata": {},
   "outputs": [
    {
     "name": "stdout",
     "output_type": "stream",
     "text": [
      "<class 'int'>\n"
     ]
    }
   ],
   "source": [
    "print(type(2023))"
   ]
  },
  {
   "cell_type": "raw",
   "id": "89ce9035",
   "metadata": {},
   "source": [
    "print(type(True))"
   ]
  },
  {
   "cell_type": "markdown",
   "id": "a0ed68e2",
   "metadata": {},
   "source": [
    "# QUESTION 2"
   ]
  },
  {
   "cell_type": "code",
   "execution_count": 2,
   "id": "41e1183c",
   "metadata": {},
   "outputs": [
    {
     "name": "stdout",
     "output_type": "stream",
     "text": [
      "4\n"
     ]
    }
   ],
   "source": [
    "print(len('Musa'))"
   ]
  },
  {
   "cell_type": "markdown",
   "id": "06cdf174",
   "metadata": {},
   "source": [
    "# QUESTION 3"
   ]
  },
  {
   "cell_type": "code",
   "execution_count": 3,
   "id": "90b246bf",
   "metadata": {},
   "outputs": [
    {
     "name": "stdout",
     "output_type": "stream",
     "text": [
      "False\n"
     ]
    }
   ],
   "source": [
    "print((len('Musa'))==len('Mohammed'))"
   ]
  },
  {
   "cell_type": "markdown",
   "id": "54e5731e",
   "metadata": {},
   "source": [
    "# QUESTION 4"
   ]
  },
  {
   "cell_type": "code",
   "execution_count": 5,
   "id": "8793a280",
   "metadata": {},
   "outputs": [
    {
     "name": "stdout",
     "output_type": "stream",
     "text": [
      "10\n",
      "0\n",
      "25\n",
      "1.0\n",
      "1.0\n",
      "3125\n",
      "1\n"
     ]
    }
   ],
   "source": [
    "num_one=5\n",
    "num_two=5\n",
    "\n",
    "total=num_one+num_two\n",
    "print(total)\n",
    "diff=num_one-num_two\n",
    "print(diff)\n",
    "product=num_two*num_one\n",
    "print(product)\n",
    "division=num_one/num_two\n",
    "print(division)\n",
    "remainder=num_two/num_one\n",
    "print(remainder)\n",
    "exp=num_one**num_two\n",
    "print(exp)\n",
    "floor_division=num_one//num_two\n",
    "print(floor_division)"
   ]
  },
  {
   "cell_type": "markdown",
   "id": "84f4c477",
   "metadata": {},
   "source": [
    "# QUESTION 5"
   ]
  },
  {
   "cell_type": "code",
   "execution_count": 7,
   "id": "0068aad4",
   "metadata": {},
   "outputs": [
    {
     "name": "stdout",
     "output_type": "stream",
     "text": [
      "2826.0\n",
      "188.4\n"
     ]
    }
   ],
   "source": [
    "radius=30\n",
    "area_of_circle=3.14*radius**2\n",
    "print(area_of_circle)\n",
    "\n",
    "cicircum_of_circle=2*3.14*radius\n",
    "print(cicircum_of_circle)"
   ]
  },
  {
   "cell_type": "markdown",
   "id": "4a1b6fbf",
   "metadata": {},
   "source": [
    "# QUESTION 6"
   ]
  },
  {
   "cell_type": "code",
   "execution_count": null,
   "id": "e0f98d7a",
   "metadata": {},
   "outputs": [],
   "source": []
  },
  {
   "cell_type": "markdown",
   "id": "0f489edd",
   "metadata": {},
   "source": [
    "# QUESTION 7"
   ]
  },
  {
   "cell_type": "code",
   "execution_count": 10,
   "id": "77afa263",
   "metadata": {},
   "outputs": [
    {
     "name": "stdout",
     "output_type": "stream",
     "text": [
      "['False', 'None', 'True', 'and', 'as', 'assert', 'async', 'await', 'break', 'class', 'continue', 'def', 'del', 'elif', 'else', 'except', 'finally', 'for', 'from', 'global', 'if', 'import', 'in', 'is', 'lambda', 'nonlocal', 'not', 'or', 'pass', 'raise', 'return', 'try', 'while', 'with', 'yield']\n"
     ]
    }
   ],
   "source": [
    "import keyword\n",
    "print(keyword.kwlist)"
   ]
  },
  {
   "cell_type": "code",
   "execution_count": null,
   "id": "252bfe7b",
   "metadata": {},
   "outputs": [],
   "source": []
  }
 ],
 "metadata": {
  "kernelspec": {
   "display_name": "Python 3 (ipykernel)",
   "language": "python",
   "name": "python3"
  },
  "language_info": {
   "codemirror_mode": {
    "name": "ipython",
    "version": 3
   },
   "file_extension": ".py",
   "mimetype": "text/x-python",
   "name": "python",
   "nbconvert_exporter": "python",
   "pygments_lexer": "ipython3",
   "version": "3.11.1"
  }
 },
 "nbformat": 4,
 "nbformat_minor": 5
}
