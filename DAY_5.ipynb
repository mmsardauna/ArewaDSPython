{
 "cells": [
  {
   "cell_type": "markdown",
   "id": "f5a844c4",
   "metadata": {},
   "source": [
    "# DAY 5"
   ]
  },
  {
   "cell_type": "markdown",
   "id": "ecce59b3",
   "metadata": {},
   "source": [
    "## EX LEVEL1 "
   ]
  },
  {
   "cell_type": "markdown",
   "id": "730a7c2a",
   "metadata": {},
   "source": [
    "# Q1 TO Q4"
   ]
  },
  {
   "cell_type": "code",
   "execution_count": null,
   "id": "cf4901a5",
   "metadata": {},
   "outputs": [],
   "source": [
    "empty_list=[]"
   ]
  },
  {
   "cell_type": "code",
   "execution_count": 4,
   "id": "b7ba1f7a",
   "metadata": {},
   "outputs": [
    {
     "name": "stdout",
     "output_type": "stream",
     "text": [
      "5\n"
     ]
    },
    {
     "data": {
      "text/plain": [
       "'monday'"
      ]
     },
     "execution_count": 4,
     "metadata": {},
     "output_type": "execute_result"
    }
   ],
   "source": [
    "days=['monday','tuesday','wednesday','thursday','friday']\n",
    "print(len(days))"
   ]
  },
  {
   "cell_type": "code",
   "execution_count": 6,
   "id": "0df79b96",
   "metadata": {},
   "outputs": [
    {
     "data": {
      "text/plain": [
       "'monday'"
      ]
     },
     "execution_count": 6,
     "metadata": {},
     "output_type": "execute_result"
    }
   ],
   "source": [
    "days[0]"
   ]
  },
  {
   "cell_type": "code",
   "execution_count": 5,
   "id": "6da225e9",
   "metadata": {},
   "outputs": [
    {
     "data": {
      "text/plain": [
       "'wednesday'"
      ]
     },
     "execution_count": 5,
     "metadata": {},
     "output_type": "execute_result"
    }
   ],
   "source": [
    "days[2]"
   ]
  },
  {
   "cell_type": "code",
   "execution_count": 7,
   "id": "2b149e7d",
   "metadata": {},
   "outputs": [
    {
     "data": {
      "text/plain": [
       "'friday'"
      ]
     },
     "execution_count": 7,
     "metadata": {},
     "output_type": "execute_result"
    }
   ],
   "source": [
    "days[4]"
   ]
  },
  {
   "cell_type": "code",
   "execution_count": null,
   "id": "2899cab0",
   "metadata": {},
   "outputs": [],
   "source": [
    "# Q5"
   ]
  },
  {
   "cell_type": "code",
   "execution_count": null,
   "id": "7c6b26e5",
   "metadata": {},
   "outputs": [],
   "source": [
    "mixed_data_types=['Musa',32,1.8,'married','Bauchi']"
   ]
  },
  {
   "cell_type": "code",
   "execution_count": null,
   "id": "4c61f1a2",
   "metadata": {},
   "outputs": [],
   "source": [
    "# Q6 AND 7"
   ]
  },
  {
   "cell_type": "code",
   "execution_count": 8,
   "id": "901ab078",
   "metadata": {},
   "outputs": [
    {
     "name": "stdout",
     "output_type": "stream",
     "text": [
      "['Facebook', 'Google', 'Microsoft', 'Apple', 'IBM', 'Oracle', 'Amazon']\n"
     ]
    }
   ],
   "source": [
    "it_companies=['Facebook','Google','Microsoft','Apple','IBM','Oracle','Amazon']\n",
    "print(it_companies)"
   ]
  },
  {
   "cell_type": "code",
   "execution_count": null,
   "id": "319fd7e4",
   "metadata": {},
   "outputs": [],
   "source": [
    "# Q8"
   ]
  },
  {
   "cell_type": "code",
   "execution_count": 9,
   "id": "f9a0e48e",
   "metadata": {},
   "outputs": [
    {
     "name": "stdout",
     "output_type": "stream",
     "text": [
      "7\n"
     ]
    }
   ],
   "source": [
    "print(len(it_companies))"
   ]
  },
  {
   "cell_type": "code",
   "execution_count": null,
   "id": "224e8574",
   "metadata": {},
   "outputs": [],
   "source": [
    "# Q9"
   ]
  },
  {
   "cell_type": "code",
   "execution_count": 11,
   "id": "b259c6a8",
   "metadata": {},
   "outputs": [
    {
     "data": {
      "text/plain": [
       "'Facebook'"
      ]
     },
     "execution_count": 11,
     "metadata": {},
     "output_type": "execute_result"
    }
   ],
   "source": [
    "it_companies[0]"
   ]
  },
  {
   "cell_type": "code",
   "execution_count": 12,
   "id": "582ac4cb",
   "metadata": {},
   "outputs": [
    {
     "data": {
      "text/plain": [
       "'Apple'"
      ]
     },
     "execution_count": 12,
     "metadata": {},
     "output_type": "execute_result"
    }
   ],
   "source": [
    "it_companies[3]"
   ]
  },
  {
   "cell_type": "code",
   "execution_count": 13,
   "id": "f3ca1adc",
   "metadata": {},
   "outputs": [
    {
     "data": {
      "text/plain": [
       "'Amazon'"
      ]
     },
     "execution_count": 13,
     "metadata": {},
     "output_type": "execute_result"
    }
   ],
   "source": [
    "it_companies[6]"
   ]
  },
  {
   "cell_type": "code",
   "execution_count": null,
   "id": "d4f6b9ef",
   "metadata": {},
   "outputs": [],
   "source": [
    "# Q10"
   ]
  },
  {
   "cell_type": "code",
   "execution_count": 14,
   "id": "452f5b26",
   "metadata": {},
   "outputs": [
    {
     "name": "stdout",
     "output_type": "stream",
     "text": [
      "['Huawei', 'Google', 'Microsoft', 'Apple', 'IBM', 'Oracle', 'Amazon']\n"
     ]
    }
   ],
   "source": [
    "it_companies[0]='Huawei'\n",
    "print(it_companies)"
   ]
  },
  {
   "cell_type": "code",
   "execution_count": null,
   "id": "74071cfa",
   "metadata": {},
   "outputs": [],
   "source": [
    "# Q11"
   ]
  },
  {
   "cell_type": "code",
   "execution_count": 15,
   "id": "7fa09b77",
   "metadata": {},
   "outputs": [
    {
     "name": "stdout",
     "output_type": "stream",
     "text": [
      "['Huawei', 'Google', 'Microsoft', 'Apple', 'IBM', 'Oracle', 'Amazon', 'Cisco']\n"
     ]
    }
   ],
   "source": [
    "it_companies.append('Cisco')\n",
    "print(it_companies)"
   ]
  },
  {
   "cell_type": "code",
   "execution_count": null,
   "id": "cf89f339",
   "metadata": {},
   "outputs": [],
   "source": [
    "# Q12"
   ]
  },
  {
   "cell_type": "code",
   "execution_count": 16,
   "id": "f255bb72",
   "metadata": {},
   "outputs": [
    {
     "name": "stdout",
     "output_type": "stream",
     "text": [
      "['Huawei', 'Google', 'Microsoft', 'Apple', 'Samsung', 'IBM', 'Oracle', 'Amazon', 'Cisco']\n"
     ]
    }
   ],
   "source": [
    "it_companies.insert(4,'Samsung')\n",
    "print(it_companies)"
   ]
  },
  {
   "cell_type": "code",
   "execution_count": null,
   "id": "1c962791",
   "metadata": {},
   "outputs": [],
   "source": [
    "# Q13"
   ]
  },
  {
   "cell_type": "code",
   "execution_count": 17,
   "id": "3fbdbcaf",
   "metadata": {},
   "outputs": [
    {
     "ename": "AttributeError",
     "evalue": "'list' object has no attribute 'uppercase'",
     "output_type": "error",
     "traceback": [
      "\u001b[1;31m---------------------------------------------------------------------------\u001b[0m",
      "\u001b[1;31mAttributeError\u001b[0m                            Traceback (most recent call last)",
      "Cell \u001b[1;32mIn[17], line 1\u001b[0m\n\u001b[1;32m----> 1\u001b[0m \u001b[43mit_companies\u001b[49m\u001b[38;5;241;43m.\u001b[39;49m\u001b[43muppercase\u001b[49m(\u001b[38;5;241m0\u001b[39m)\n",
      "\u001b[1;31mAttributeError\u001b[0m: 'list' object has no attribute 'uppercase'"
     ]
    }
   ],
   "source": [
    "it_companies.uppercase(0)"
   ]
  },
  {
   "cell_type": "code",
   "execution_count": 18,
   "id": "63edfe39",
   "metadata": {},
   "outputs": [],
   "source": [
    "# Q14"
   ]
  },
  {
   "cell_type": "code",
   "execution_count": 19,
   "id": "9a9e8938",
   "metadata": {},
   "outputs": [
    {
     "name": "stdout",
     "output_type": "stream",
     "text": [
      "Huawei#Google#Microsoft#Apple#Samsung#IBM#Oracle#Amazon#Cisco\n"
     ]
    }
   ],
   "source": [
    "print('#'.join(it_companies))"
   ]
  },
  {
   "cell_type": "code",
   "execution_count": null,
   "id": "88862ff2",
   "metadata": {},
   "outputs": [],
   "source": [
    "# Q15"
   ]
  },
  {
   "cell_type": "code",
   "execution_count": 20,
   "id": "070d55b4",
   "metadata": {},
   "outputs": [
    {
     "name": "stdout",
     "output_type": "stream",
     "text": [
      "Oracle in it_companies\n"
     ]
    }
   ],
   "source": [
    "does_exist='Oracle in it_companies'\n",
    "print(does_exist)"
   ]
  },
  {
   "cell_type": "code",
   "execution_count": null,
   "id": "357304a4",
   "metadata": {},
   "outputs": [],
   "source": [
    "# Q16"
   ]
  },
  {
   "cell_type": "code",
   "execution_count": 21,
   "id": "31bb5936",
   "metadata": {},
   "outputs": [
    {
     "name": "stdout",
     "output_type": "stream",
     "text": [
      "None\n"
     ]
    }
   ],
   "source": [
    "print(it_companies.sort())"
   ]
  },
  {
   "cell_type": "code",
   "execution_count": null,
   "id": "bd40ef7d",
   "metadata": {},
   "outputs": [],
   "source": [
    "# Q17"
   ]
  },
  {
   "cell_type": "code",
   "execution_count": 22,
   "id": "e19e2946",
   "metadata": {},
   "outputs": [
    {
     "name": "stdout",
     "output_type": "stream",
     "text": [
      "None\n"
     ]
    }
   ],
   "source": [
    "print(it_companies.reverse())"
   ]
  },
  {
   "cell_type": "code",
   "execution_count": null,
   "id": "2d437c39",
   "metadata": {},
   "outputs": [],
   "source": [
    "# Q18"
   ]
  },
  {
   "cell_type": "code",
   "execution_count": 23,
   "id": "6b197716",
   "metadata": {},
   "outputs": [
    {
     "data": {
      "text/plain": [
       "['IBM', 'Huawei', 'Google', 'Cisco', 'Apple', 'Amazon']"
      ]
     },
     "execution_count": 23,
     "metadata": {},
     "output_type": "execute_result"
    }
   ],
   "source": [
    "it_companies[3:]"
   ]
  },
  {
   "cell_type": "code",
   "execution_count": null,
   "id": "6ad6ea40",
   "metadata": {},
   "outputs": [],
   "source": [
    "# Q19"
   ]
  },
  {
   "cell_type": "code",
   "execution_count": 24,
   "id": "992deb10",
   "metadata": {},
   "outputs": [
    {
     "data": {
      "text/plain": [
       "['Amazon']"
      ]
     },
     "execution_count": 24,
     "metadata": {},
     "output_type": "execute_result"
    }
   ],
   "source": [
    "it_companies[8:]"
   ]
  },
  {
   "cell_type": "code",
   "execution_count": null,
   "id": "19d2530b",
   "metadata": {},
   "outputs": [],
   "source": [
    "# Q20"
   ]
  },
  {
   "cell_type": "code",
   "execution_count": 25,
   "id": "ba371cd0",
   "metadata": {},
   "outputs": [
    {
     "data": {
      "text/plain": [
       "'Google'"
      ]
     },
     "execution_count": 25,
     "metadata": {},
     "output_type": "execute_result"
    }
   ],
   "source": [
    "it_companies[5]"
   ]
  },
  {
   "cell_type": "code",
   "execution_count": null,
   "id": "288d215c",
   "metadata": {},
   "outputs": [],
   "source": [
    "# Q21"
   ]
  },
  {
   "cell_type": "code",
   "execution_count": 27,
   "id": "5ccd8679",
   "metadata": {},
   "outputs": [
    {
     "ename": "ValueError",
     "evalue": "list.remove(x): x not in list",
     "output_type": "error",
     "traceback": [
      "\u001b[1;31m---------------------------------------------------------------------------\u001b[0m",
      "\u001b[1;31mValueError\u001b[0m                                Traceback (most recent call last)",
      "Cell \u001b[1;32mIn[27], line 1\u001b[0m\n\u001b[1;32m----> 1\u001b[0m \u001b[43mit_companies\u001b[49m\u001b[38;5;241;43m.\u001b[39;49m\u001b[43mremove\u001b[49m\u001b[43m(\u001b[49m\u001b[38;5;124;43m'\u001b[39;49m\u001b[38;5;124;43mHuawei\u001b[39;49m\u001b[38;5;124;43m'\u001b[39;49m\u001b[43m)\u001b[49m\n",
      "\u001b[1;31mValueError\u001b[0m: list.remove(x): x not in list"
     ]
    }
   ],
   "source": [
    "it_companies.remove('Huawei')"
   ]
  },
  {
   "cell_type": "code",
   "execution_count": null,
   "id": "d0c9a3d5",
   "metadata": {},
   "outputs": [],
   "source": [
    "# Q22"
   ]
  },
  {
   "cell_type": "code",
   "execution_count": 28,
   "id": "f925fa72",
   "metadata": {},
   "outputs": [],
   "source": [
    "it_companies.remove('IBM')"
   ]
  },
  {
   "cell_type": "code",
   "execution_count": null,
   "id": "e04dc9c4",
   "metadata": {},
   "outputs": [],
   "source": [
    "# Q23"
   ]
  },
  {
   "cell_type": "code",
   "execution_count": 29,
   "id": "edc41f02",
   "metadata": {},
   "outputs": [
    {
     "data": {
      "text/plain": [
       "'Amazon'"
      ]
     },
     "execution_count": 29,
     "metadata": {},
     "output_type": "execute_result"
    }
   ],
   "source": [
    "it_companies.pop()"
   ]
  },
  {
   "cell_type": "code",
   "execution_count": 30,
   "id": "07ca0f45",
   "metadata": {},
   "outputs": [],
   "source": [
    "# Q24"
   ]
  },
  {
   "cell_type": "code",
   "execution_count": 33,
   "id": "945b62f5",
   "metadata": {},
   "outputs": [
    {
     "name": "stdout",
     "output_type": "stream",
     "text": [
      "[]\n"
     ]
    }
   ],
   "source": [
    "it_companies.clear()\n",
    "print(it_companies)"
   ]
  },
  {
   "cell_type": "code",
   "execution_count": null,
   "id": "ddcff313",
   "metadata": {},
   "outputs": [],
   "source": [
    "# Q25"
   ]
  },
  {
   "cell_type": "code",
   "execution_count": 34,
   "id": "a2b49071",
   "metadata": {},
   "outputs": [],
   "source": [
    "del it_companies"
   ]
  },
  {
   "cell_type": "code",
   "execution_count": null,
   "id": "61d3369e",
   "metadata": {},
   "outputs": [],
   "source": [
    "# Q26"
   ]
  },
  {
   "cell_type": "code",
   "execution_count": 35,
   "id": "bda38f66",
   "metadata": {},
   "outputs": [
    {
     "name": "stdout",
     "output_type": "stream",
     "text": [
      "['HTML', 'CSS', 'JS', 'React', 'Redux', 'Node', 'Express', 'MongoDB']\n"
     ]
    }
   ],
   "source": [
    "front_end=['HTML','CSS','JS','React','Redux']\n",
    "back_end=['Node','Express','MongoDB']\n",
    "print(front_end+back_end)"
   ]
  },
  {
   "cell_type": "code",
   "execution_count": null,
   "id": "4ec2daef",
   "metadata": {},
   "outputs": [],
   "source": [
    "# Q27"
   ]
  },
  {
   "cell_type": "code",
   "execution_count": 36,
   "id": "c7281700",
   "metadata": {},
   "outputs": [
    {
     "name": "stdout",
     "output_type": "stream",
     "text": [
      "['HTML', 'CSS', 'JS', 'React', 'Redux', 'Python', 'Node', 'Express', 'MongoDB']\n"
     ]
    }
   ],
   "source": [
    "full_stack=['HTML', 'CSS', 'JS', 'React', 'Redux', 'Node', 'Express', 'MongoDB']\n",
    "full_stack.insert(5,'Python')\n",
    "print(full_stack)"
   ]
  },
  {
   "cell_type": "markdown",
   "id": "f8be1923",
   "metadata": {},
   "source": [
    "# EX LEVEL2"
   ]
  },
  {
   "cell_type": "code",
   "execution_count": null,
   "id": "332cf995",
   "metadata": {},
   "outputs": [],
   "source": [
    "# Q1"
   ]
  },
  {
   "cell_type": "code",
   "execution_count": 40,
   "id": "6addc82b",
   "metadata": {},
   "outputs": [],
   "source": [
    "ages=[19, 22, 19, 24, 20, 25, 26, 24, 25, 24]"
   ]
  },
  {
   "cell_type": "code",
   "execution_count": 42,
   "id": "edfe2994",
   "metadata": {},
   "outputs": [
    {
     "name": "stdout",
     "output_type": "stream",
     "text": [
      "[19, 19, 20, 22, 24, 24, 24, 25, 25, 26]\n"
     ]
    }
   ],
   "source": [
    "ages.sort()\n",
    "print(ages)"
   ]
  },
  {
   "cell_type": "code",
   "execution_count": 43,
   "id": "9f1e95dd",
   "metadata": {},
   "outputs": [
    {
     "data": {
      "text/plain": [
       "19"
      ]
     },
     "execution_count": 43,
     "metadata": {},
     "output_type": "execute_result"
    }
   ],
   "source": [
    "ages[0]"
   ]
  },
  {
   "cell_type": "code",
   "execution_count": 44,
   "id": "804cf03c",
   "metadata": {},
   "outputs": [
    {
     "data": {
      "text/plain": [
       "26"
      ]
     },
     "execution_count": 44,
     "metadata": {},
     "output_type": "execute_result"
    }
   ],
   "source": [
    "ages[9]"
   ]
  },
  {
   "cell_type": "code",
   "execution_count": 45,
   "id": "43cddccc",
   "metadata": {},
   "outputs": [
    {
     "name": "stdout",
     "output_type": "stream",
     "text": [
      "[19, 19, 20, 22, 24, 24, 24, 25, 25, 26, 19]\n"
     ]
    }
   ],
   "source": [
    "ages.append(19)\n",
    "print(ages)"
   ]
  },
  {
   "cell_type": "code",
   "execution_count": 46,
   "id": "8e71cff0",
   "metadata": {},
   "outputs": [
    {
     "name": "stdout",
     "output_type": "stream",
     "text": [
      "[19, 19, 20, 22, 24, 24, 24, 25, 25, 26, 19, 26]\n"
     ]
    }
   ],
   "source": [
    "ages.append(26)\n",
    "print(ages)"
   ]
  },
  {
   "cell_type": "code",
   "execution_count": 47,
   "id": "f6ab450e",
   "metadata": {},
   "outputs": [
    {
     "ename": "ModuleNotFoundError",
     "evalue": "No module named 'numpy'",
     "output_type": "error",
     "traceback": [
      "\u001b[1;31m---------------------------------------------------------------------------\u001b[0m",
      "\u001b[1;31mModuleNotFoundError\u001b[0m                       Traceback (most recent call last)",
      "Cell \u001b[1;32mIn[47], line 1\u001b[0m\n\u001b[1;32m----> 1\u001b[0m \u001b[38;5;28;01mimport\u001b[39;00m \u001b[38;5;21;01mnumpy\u001b[39;00m\n\u001b[0;32m      2\u001b[0m med_age\u001b[38;5;241m=\u001b[39mnumpy\u001b[38;5;241m.\u001b[39mmedian(ages)\n\u001b[0;32m      3\u001b[0m \u001b[38;5;28mprint\u001b[39m(med_age)\n",
      "\u001b[1;31mModuleNotFoundError\u001b[0m: No module named 'numpy'"
     ]
    }
   ],
   "source": [
    "import numpy\n",
    "med_age=numpy.median(ages)\n",
    "print(med_age)"
   ]
  },
  {
   "cell_type": "code",
   "execution_count": null,
   "id": "a5442f4d",
   "metadata": {},
   "outputs": [],
   "source": []
  },
  {
   "cell_type": "code",
   "execution_count": null,
   "id": "398a3a37",
   "metadata": {},
   "outputs": [],
   "source": []
  },
  {
   "cell_type": "code",
   "execution_count": 37,
   "id": "60c338b2",
   "metadata": {},
   "outputs": [],
   "source": []
  },
  {
   "cell_type": "code",
   "execution_count": null,
   "id": "de3bdc8d",
   "metadata": {},
   "outputs": [],
   "source": []
  },
  {
   "cell_type": "code",
   "execution_count": null,
   "id": "7314cb10",
   "metadata": {},
   "outputs": [],
   "source": []
  }
 ],
 "metadata": {
  "kernelspec": {
   "display_name": "Python 3 (ipykernel)",
   "language": "python",
   "name": "python3"
  },
  "language_info": {
   "codemirror_mode": {
    "name": "ipython",
    "version": 3
   },
   "file_extension": ".py",
   "mimetype": "text/x-python",
   "name": "python",
   "nbconvert_exporter": "python",
   "pygments_lexer": "ipython3",
   "version": "3.11.1"
  }
 },
 "nbformat": 4,
 "nbformat_minor": 5
}
