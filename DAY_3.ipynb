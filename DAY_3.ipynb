{
 "cells": [
  {
   "cell_type": "markdown",
   "id": "9363c829",
   "metadata": {},
   "source": [
    "# DAY 3"
   ]
  },
  {
   "cell_type": "markdown",
   "id": "a19e33e7",
   "metadata": {},
   "source": [
    "# EX LEVEL1"
   ]
  },
  {
   "cell_type": "markdown",
   "id": "197bc0a1",
   "metadata": {},
   "source": [
    "## Q1 to 3"
   ]
  },
  {
   "cell_type": "code",
   "execution_count": null,
   "id": "2523c0b8",
   "metadata": {},
   "outputs": [],
   "source": [
    "age=30"
   ]
  },
  {
   "cell_type": "code",
   "execution_count": null,
   "id": "8fcc36b6",
   "metadata": {},
   "outputs": [],
   "source": [
    "height=1.8"
   ]
  },
  {
   "cell_type": "code",
   "execution_count": null,
   "id": "12ef38d2",
   "metadata": {},
   "outputs": [],
   "source": [
    "x=1+2j"
   ]
  },
  {
   "cell_type": "markdown",
   "id": "7084dbb1",
   "metadata": {},
   "source": [
    "# Q4"
   ]
  },
  {
   "cell_type": "code",
   "execution_count": null,
   "id": "6a3eac56",
   "metadata": {},
   "outputs": [],
   "source": [
    "b,h=int(input('enter the base and height:'))\n",
    "area=0.5*b*h\n",
    "print(area)"
   ]
  },
  {
   "cell_type": "code",
   "execution_count": null,
   "id": "67dc2924",
   "metadata": {},
   "outputs": [],
   "source": []
  },
  {
   "cell_type": "markdown",
   "id": "dc53ba4c",
   "metadata": {},
   "source": [
    "# Q5"
   ]
  },
  {
   "cell_type": "code",
   "execution_count": null,
   "id": "05d96b4e",
   "metadata": {},
   "outputs": [],
   "source": [
    "a,b,c=int(input('enter side a,side b and sidec'))\n",
    "perimeter=a+b+c\n",
    "print(perimeter)"
   ]
  },
  {
   "cell_type": "code",
   "execution_count": null,
   "id": "d5e8771b",
   "metadata": {},
   "outputs": [],
   "source": []
  },
  {
   "cell_type": "markdown",
   "id": "8dd1f351",
   "metadata": {},
   "source": [
    "# Q6"
   ]
  },
  {
   "cell_type": "code",
   "execution_count": null,
   "id": "66087d31",
   "metadata": {},
   "outputs": [],
   "source": [
    "l,w=int(input('enter the length and width:'))\n",
    "area=l*w\n",
    "perimeter=2*(l+w)\n",
    "print(area)\n",
    "print(perimeter)"
   ]
  },
  {
   "cell_type": "markdown",
   "id": "87ae78f2",
   "metadata": {},
   "source": [
    "# Q7"
   ]
  },
  {
   "cell_type": "code",
   "execution_count": null,
   "id": "4cb5dccc",
   "metadata": {},
   "outputs": [],
   "source": [
    "import math\n",
    "r=int(input('enter the radius:' ))\n",
    "area=pi*r*r\n",
    "circumference=2*pi*r\n",
    "print(area)\n",
    "print(circumference)"
   ]
  },
  {
   "cell_type": "markdown",
   "id": "fe16a6f3",
   "metadata": {},
   "source": [
    "# Q8"
   ]
  },
  {
   "cell_type": "code",
   "execution_count": null,
   "id": "8d827f94",
   "metadata": {},
   "outputs": [],
   "source": []
  },
  {
   "cell_type": "markdown",
   "id": "872d515e",
   "metadata": {},
   "source": [
    "# Q9"
   ]
  },
  {
   "cell_type": "code",
   "execution_count": null,
   "id": "d2a02d81",
   "metadata": {},
   "outputs": [],
   "source": [
    "m=(10-2)/(6-2)\n",
    "print(m)\n",
    "import math\n",
    "math.sqrt(((2-6)**2)+((2-10)**2))"
   ]
  },
  {
   "cell_type": "markdown",
   "id": "f470e93d",
   "metadata": {},
   "source": [
    "# Q10"
   ]
  },
  {
   "cell_type": "code",
   "execution_count": null,
   "id": "080679da",
   "metadata": {},
   "outputs": [],
   "source": []
  },
  {
   "cell_type": "markdown",
   "id": "a7bb282a",
   "metadata": {},
   "source": [
    "# Q11"
   ]
  },
  {
   "cell_type": "code",
   "execution_count": null,
   "id": "e2bdfa5f",
   "metadata": {},
   "outputs": [],
   "source": []
  },
  {
   "cell_type": "markdown",
   "id": "7d85217c",
   "metadata": {},
   "source": [
    "# Q12"
   ]
  },
  {
   "cell_type": "code",
   "execution_count": null,
   "id": "b3ee7ab4",
   "metadata": {},
   "outputs": [],
   "source": [
    "print len('python')\n",
    "print len('dragon')\n",
    "len('python')>len('dragon')"
   ]
  },
  {
   "cell_type": "markdown",
   "id": "8fadba31",
   "metadata": {},
   "source": [
    "# Q13"
   ]
  },
  {
   "cell_type": "code",
   "execution_count": null,
   "id": "9ddb8166",
   "metadata": {},
   "outputs": [],
   "source": [
    "print(('on in python', 'on' in 'python') and ('on in dragon', 'on' in 'dragon'))"
   ]
  },
  {
   "cell_type": "markdown",
   "id": "b907985d",
   "metadata": {},
   "source": [
    "# Q14"
   ]
  },
  {
   "cell_type": "code",
   "execution_count": null,
   "id": "f4a125de",
   "metadata": {},
   "outputs": [],
   "source": [
    "print('jargon in i hope this course is not full of jargon', 'jargon' in 'i hope this course is not full of jargon')"
   ]
  },
  {
   "cell_type": "markdown",
   "id": "d97dcd0c",
   "metadata": {},
   "source": [
    "# Q15"
   ]
  },
  {
   "cell_type": "code",
   "execution_count": null,
   "id": "dc07b5dd",
   "metadata": {},
   "outputs": [],
   "source": [
    "print(('on not in dragon', 'on' not in 'dragon') and ('on not in python', 'on' not in 'python'))"
   ]
  },
  {
   "cell_type": "markdown",
   "id": "7417db7d",
   "metadata": {},
   "source": [
    "# Q16"
   ]
  },
  {
   "cell_type": "code",
   "execution_count": null,
   "id": "cb46cf4b",
   "metadata": {},
   "outputs": [],
   "source": [
    "print(len('python'))\n",
    "num_float=float(len('python'))\n",
    "print('num_float', num_float)\n",
    "num_str=str(num_float)\n",
    "print('num_string', num_str)"
   ]
  },
  {
   "cell_type": "markdown",
   "id": "f2468dd4",
   "metadata": {},
   "source": [
    "# Q17"
   ]
  },
  {
   "cell_type": "code",
   "execution_count": null,
   "id": "4c17fd4a",
   "metadata": {},
   "outputs": [],
   "source": []
  },
  {
   "cell_type": "markdown",
   "id": "21269b76",
   "metadata": {},
   "source": [
    "# Q18"
   ]
  },
  {
   "cell_type": "code",
   "execution_count": null,
   "id": "97056a5b",
   "metadata": {},
   "outputs": [],
   "source": [
    "print(7//3==int(2.7))"
   ]
  },
  {
   "cell_type": "markdown",
   "id": "470524f6",
   "metadata": {},
   "source": [
    "# Q19"
   ]
  },
  {
   "cell_type": "code",
   "execution_count": null,
   "id": "8c5eaaf7",
   "metadata": {},
   "outputs": [],
   "source": [
    "print((type('10'))==(type(10)))"
   ]
  },
  {
   "cell_type": "markdown",
   "id": "a1e7001e",
   "metadata": {},
   "source": [
    "# Q20"
   ]
  },
  {
   "cell_type": "code",
   "execution_count": null,
   "id": "ed96854d",
   "metadata": {},
   "outputs": [],
   "source": [
    "print(int('9.8'))==10"
   ]
  },
  {
   "cell_type": "markdown",
   "id": "cb468b3a",
   "metadata": {},
   "source": [
    "# Q21"
   ]
  },
  {
   "cell_type": "code",
   "execution_count": null,
   "id": "d5967f1c",
   "metadata": {},
   "outputs": [],
   "source": []
  },
  {
   "cell_type": "markdown",
   "id": "7500c664",
   "metadata": {},
   "source": [
    "# Q22"
   ]
  },
  {
   "cell_type": "code",
   "execution_count": null,
   "id": "2eb1073b",
   "metadata": {},
   "outputs": [],
   "source": [
    "yrs=int(input('enter number of years'))\n",
    "number_of_seconds=yrs*365*24*60*60\n",
    "print(number_of_seconds)"
   ]
  },
  {
   "cell_type": "markdown",
   "id": "67b676a0",
   "metadata": {},
   "source": [
    "# Q23"
   ]
  },
  {
   "cell_type": "code",
   "execution_count": null,
   "id": "96662302",
   "metadata": {},
   "outputs": [],
   "source": [
    "print(1\\t1\\t1\\t1\\t1\\n2\\t1\\t2\\t4\\t8\\n3\\t1\\t3\\t9\\t28\\n4\\t\\t1\\t4\\t16\\t64\\n\\t5\\t1\\t5\\t25\\t124)"
   ]
  },
  {
   "cell_type": "code",
   "execution_count": null,
   "id": "dac85cd8",
   "metadata": {},
   "outputs": [],
   "source": []
  }
 ],
 "metadata": {
  "kernelspec": {
   "display_name": "Python 3 (ipykernel)",
   "language": "python",
   "name": "python3"
  },
  "language_info": {
   "codemirror_mode": {
    "name": "ipython",
    "version": 3
   },
   "file_extension": ".py",
   "mimetype": "text/x-python",
   "name": "python",
   "nbconvert_exporter": "python",
   "pygments_lexer": "ipython3",
   "version": "3.11.1"
  }
 },
 "nbformat": 4,
 "nbformat_minor": 5
}
